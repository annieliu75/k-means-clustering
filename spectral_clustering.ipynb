{
  "nbformat": 4,
  "nbformat_minor": 0,
  "metadata": {
    "colab": {
      "name": "spectral_clustering.ipynb",
      "provenance": []
    },
    "kernelspec": {
      "name": "python3",
      "display_name": "Python 3"
    },
    "language_info": {
      "name": "python"
    }
  },
  "cells": [
    {
      "cell_type": "markdown",
      "source": [
        "#Spectral clustering for MINST dataset - Version 0.0# \n",
        "$N$: number of data points\n",
        "\n",
        "$K$: number of clusters\n",
        "\n",
        "\n",
        "##Road Map##\n",
        "1. Input data and label\n",
        "2. Compute similarity matrix $M$ with some kernel (say, Gaussian kernel), apply some thereshold to get adjacency matrix $W$\n",
        "3. Compute the Laplacian matrix $L=D-W$ of the graph (every node represents one data point)\n",
        "4. Find the eigenvectors corresponding to the $K$ minimal eigenvalues of $L$ and construct matrix $H$ ($N$ × $K$)\n",
        "5. Apply K-means algrithm to classify rows of $H$"
      ],
      "metadata": {
        "id": "e-gmtgHSXPmL"
      }
    },
    {
      "cell_type": "code",
      "source": [
        "# Test block\n",
        "a = [1,2,3,4]\n",
        "b = [1,1,1,2]\n",
        "np.exp(-1.6)"
      ],
      "metadata": {
        "colab": {
          "base_uri": "https://localhost:8080/"
        },
        "id": "FQsDNNJEay1G",
        "outputId": "8b52cd0e-a523-4799-a5a0-9720be37d2d9"
      },
      "execution_count": null,
      "outputs": [
        {
          "output_type": "execute_result",
          "data": {
            "text/plain": [
              "0.20189651799465538"
            ]
          },
          "metadata": {},
          "execution_count": 29
        }
      ]
    },
    {
      "cell_type": "code",
      "execution_count": null,
      "metadata": {
        "id": "2NUlPXRl7Vqq"
      },
      "outputs": [],
      "source": [
        "from sklearn import datasets\n",
        "import matplotlib.pyplot as plt\n",
        "import numpy as np\n",
        "import random"
      ]
    },
    {
      "cell_type": "code",
      "source": [
        "# Import data and label\n",
        "#X, y_true = datasets.fetch_openml('mnist_784', version=1, return_X_y=True)\n",
        "#X = np.array(X)\n",
        "N = 300;\n",
        "K = 4;\n",
        "X, y_true= datasets.make_blobs(n_samples=N, centers=K, cluster_std=0.6, random_state=0, n_features=2)\n",
        "plt.scatter(X[:,0],X[:,1],s=50)"
      ],
      "metadata": {
        "colab": {
          "base_uri": "https://localhost:8080/",
          "height": 283
        },
        "id": "4fQYW84Tb3mc",
        "outputId": "27289550-7fb7-4087-c5e3-bd7747065c3a"
      },
      "execution_count": null,
      "outputs": [
        {
          "output_type": "execute_result",
          "data": {
            "text/plain": [
              "<matplotlib.collections.PathCollection at 0x7f2eb453eb90>"
            ]
          },
          "metadata": {},
          "execution_count": 31
        },
        {
          "output_type": "display_data",
          "data": {
            "text/plain": [
              "<Figure size 432x288 with 1 Axes>"
            ],
            "image/png": "[encoded data removed]"
          },
          "metadata": {
            "needs_background": "light"
          }
        }
      ]
    },
    {
      "cell_type": "code",
      "source": [
        "def Adjacency_GaussianKernel(X):\n",
        "  W = np.zeros([N,N])\n",
        "  M = np.zeros([N,N])\n",
        "  epsilon = 0.2\n",
        "  gamma = 0.01\n",
        "  for i in range(N):\n",
        "    for j in range(N):\n",
        "      temp = np.inner( (X[i,:]-X[j,:]), (X[i,:]-X[j,:]) )\n",
        "      M[i,j] = np.exp(-gamma*temp)\n",
        "      if M[i,j]>epsilon:\n",
        "        W[i,j] = 1\n",
        "  return W\n",
        "\n",
        "def Laplacian(X):\n",
        "  D = np.zeros([N,N])\n",
        "  W = Adjacency_GaussianKernel(X)\n",
        "  for i in range(N):\n",
        "    for j in range(N):\n",
        "      D[i,i] = D[i,i]+W[i,j]\n",
        "  L = D - W\n",
        "  return D,L\n",
        "\n",
        "def H_constrcution(X):\n",
        "  H = np.zeros([K,N])\n",
        "  D,L = Laplacian(X)\n",
        "  eigenValues, eigenVectors = np.linalg.eig(L)\n",
        "  idx = eigenValues.argsort()[::1]\n",
        "  eigenValues = eigenValues[idx]\n",
        "  eigenVectors = eigenVectors[:,idx]\n",
        "  for i in range(K):\n",
        "    H[i] = eigenVectors[i]\n",
        "  H = H.T\n",
        "  return H"
      ],
      "metadata": {
        "id": "3MW0dWwacn7t"
      },
      "execution_count": null,
      "outputs": []
    },
    {
      "cell_type": "code",
      "source": [
        "# Regrad each row of matrix H as a data point\n",
        "# Classify these rows by K-means\n",
        "\n",
        "def K_means_clustering_standard_SED(X,k):\n",
        "  #Initialize centroids\n",
        "  N=len(X)\n",
        "  centroids_index = random.sample(range(N), k) #Note : the impact of the seed (cf paper) // try with predefined index, and different seeds maybe if time\n",
        "  centroids=X[centroids_index]\n",
        "  clusters = asign_clusters(centroids,X,k) #asign to cluster\n",
        "  new_centroids=update_centroids(centroids, clusters,X,k)\n",
        "  while loss(centroids,clusters,X,k)!= loss(new_centroids,asign_clusters(new_centroids,X,k),X,k): #while the centroids change, then (1) is improving by construction \n",
        "    centroids=new_centroids.copy()#copy using deep copy\n",
        "    clusters = asign_clusters(centroids,X,k) #asign to cluster\n",
        "    new_centroids=update_centroids(centroids,clusters, X,k)\n",
        "  return centroids\n",
        "\n",
        "def loss(centroids,clusters,X,k):\n",
        "  loss=0\n",
        "  for l in range(k):\n",
        "    for i in clusters[l]:\n",
        "      loss+=np.inner(X[i]-centroids[l],X[i]-centroids[l])\n",
        "  return loss\n",
        "\n",
        "def update_centroids(centroids,clusters, X,k):\n",
        "  new_centroids=[0]*len(centroids)\n",
        "  for l in range(k):\n",
        "    new_centroids[l]=sommer(X[clusters[l]])/len(clusters[l]) #à voir si on peut faire ca avec les database...\n",
        "  return new_centroids\n",
        "\n",
        "def asign_clusters(centroids,X,k): #We do the argmin of the standard squared euclidian norm \n",
        "  clusters=[[] for i in range(k)]\n",
        "  for i in range(len(X)): #for each xi REVOIR LES INDICES\n",
        "    sed=[np.inner(X[i]-centroids[j],X[i]-centroids[j]) for j in range(k)]\n",
        "    clusters[np.argmin(sed)].append(i)\n",
        "  return clusters\n",
        "\n",
        "def sommer(list_of_list):\n",
        "  Somme= [0]*len(list_of_list[0])\n",
        "  for i in range(len(list_of_list)):\n",
        "    Somme=np.add(list_of_list[i],Somme)\n",
        "  return Somme"
      ],
      "metadata": {
        "id": "KrlvJRktu5cU"
      },
      "execution_count": null,
      "outputs": []
    },
    {
      "cell_type": "code",
      "source": [
        "k=4\n",
        "random.seed(1000)\n",
        "H = H_constrcution(X)\n",
        "centroids=K_means_clustering_standard_SED(H,k)"
      ],
      "metadata": {
        "colab": {
          "base_uri": "https://localhost:8080/"
        },
        "id": "bgGncVor0K-d",
        "outputId": "71040d3b-a3eb-47b0-b6a0-a29b496d4f87"
      },
      "execution_count": null,
      "outputs": [
        {
          "output_type": "stream",
          "name": "stderr",
          "text": [
            "/usr/local/lib/python3.7/dist-packages/ipykernel_launcher.py:31: ComplexWarning: Casting complex values to real discards the imaginary part\n"
          ]
        }
      ]
    },
    {
      "cell_type": "code",
      "source": [
        "\"\"\"result in centroids\n",
        "we want to print some cluster to see how they look like\"\"\"\n",
        "clusters = asign_clusters(centroids,H,k) #cluster result\n",
        "\n",
        "\n",
        "cols=['k','r','y','g']\n",
        "plt.figure()\n",
        "for l in range(K):\n",
        "    for point in clusters[l]:\n",
        "        plt.scatter(H[point, 0],H[point, 1],  c=cols[l])\n",
        "plt.show()"
      ],
      "metadata": {
        "colab": {
          "base_uri": "https://localhost:8080/",
          "height": 265
        },
        "id": "nkdhKIDy0RRQ",
        "outputId": "693ca159-b5dd-43d0-8f5e-09b15650c55d"
      },
      "execution_count": null,
      "outputs": [
        {
          "output_type": "display_data",
          "data": {
            "text/plain": [
              "<Figure size 432x288 with 1 Axes>"
            ],
            "image/png": "[encoded data removed]"
          },
          "metadata": {
            "needs_background": "light"
          }
        }
      ]
    }
  ]
}