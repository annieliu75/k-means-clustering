{
  "cells": [
    {
      "cell_type": "markdown",
      "metadata": {
        "id": "e-gmtgHSXPmL"
      },
      "source": [
        "#Spectral clustering for MINST dataset - Version 0.0# \n",
        "$N$: number of data points\n",
        "\n",
        "$K$: number of clusters\n",
        "\n",
        "\n",
        "##Road Map##\n",
        "1. Input data and label\n",
        "2. Compute similarity matrix $M$ with some kernel (say, Gaussian kernel), apply some thereshold to get adjacency matrix $W$\n",
        "3. Compute the Laplacian matrix $L=D-W$ of the graph (every node represents one data point)\n",
        "4. Find the eigenvectors corresponding to the $K$ minimal eigenvalues of $L$ and construct matrix $H$ ($N$ × $K$)\n",
        "5. Apply K-means algrithm to classify rows of $H$"
      ]
    },
    {
      "cell_type": "code",
      "execution_count": 45,
      "metadata": {
        "colab": {
          "base_uri": "https://localhost:8080/"
        },
        "id": "FQsDNNJEay1G",
        "outputId": "8b52cd0e-a523-4799-a5a0-9720be37d2d9"
      },
      "outputs": [
        {
          "data": {
            "text/plain": [
              "0.20189651799465538"
            ]
          },
          "execution_count": 45,
          "metadata": {},
          "output_type": "execute_result"
        }
      ],
      "source": [
        "# Test block\n",
        "a = [1,2,3,4]\n",
        "b = [1,1,1,2]\n",
        "np.exp(-1.6)"
      ]
    },
    {
      "cell_type": "code",
      "execution_count": 46,
      "metadata": {
        "id": "2NUlPXRl7Vqq"
      },
      "outputs": [],
      "source": [
        "from sklearn import datasets\n",
        "import matplotlib.pyplot as plt\n",
        "import numpy as np\n",
        "import random"
      ]
    },
    {
      "cell_type": "code",
      "execution_count": 47,
      "metadata": {},
      "outputs": [
        {
          "name": "stdout",
          "output_type": "stream",
          "text": [
            "(70000, 784) (70000,)\n"
          ]
        }
      ],
      "source": [
        "X, y = datasets.fetch_openml('mnist_784', version=1, return_X_y=True)\n",
        "print(X.shape, y.shape)"
      ]
    },
    {
      "cell_type": "code",
      "execution_count": 48,
      "metadata": {
        "colab": {
          "base_uri": "https://localhost:8080/",
          "height": 283
        },
        "id": "4fQYW84Tb3mc",
        "outputId": "27289550-7fb7-4087-c5e3-bd7747065c3a"
      },
      "outputs": [
        {
          "data": {
            "image/png": "[encoded data removed]",
            "text/plain": [
              "<Figure size 432x288 with 4 Axes>"
            ]
          },
          "metadata": {},
          "output_type": "display_data"
        }
      ],
      "source": [
        "fig, ax = plt.subplots(nrows=2, ncols=2, sharex='all', sharey='all')\n",
        "ax = ax.flatten()\n",
        "for i in range(4):\n",
        "    img = X[i].reshape(28, 28)\n",
        "    # ax[i].imshow(img,cmap='Greys')\n",
        "    ax[i].imshow(img)\n",
        "ax[0].set_xticks([])\n",
        "ax[0].set_yticks([])\n",
        "plt.tight_layout()\n",
        "plt.show()"
      ]
    },
    {
      "cell_type": "code",
      "execution_count": 73,
      "metadata": {},
      "outputs": [
        {
          "name": "stdout",
          "output_type": "stream",
          "text": [
            "(300, 784) (300,)\n"
          ]
        }
      ],
      "source": [
        "N = 300\n",
        "K = 10\n",
        "X = X[0:N,:]\n",
        "y = y[0:N]\n",
        "print(X.shape,y.shape)"
      ]
    },
    {
      "cell_type": "code",
      "execution_count": 146,
      "metadata": {
        "id": "3MW0dWwacn7t"
      },
      "outputs": [],
      "source": [
        "def Adjacency_GaussianKernel(X):\n",
        "  W = np.zeros([N,N])\n",
        "  M = np.zeros([N,N])\n",
        "  epsilon = 0.3\n",
        "  gamma = 1e-7\n",
        "  for i in range(N):\n",
        "    for j in range(N):\n",
        "      temp = np.inner( (X[i,:]-X[j,:]), (X[i,:]-X[j,:]) )\n",
        "      #M[i,j] = np.exp(-gamma*temp)\n",
        "      W[i,j] = np.exp(-gamma*temp)\n",
        "      #if M[i,j]>epsilon:\n",
        "      #  W[i,j] = 1\n",
        "  return W,M\n",
        "\n",
        "def Laplacian(X):\n",
        "  D = np.zeros([N,N])\n",
        "  W,M = Adjacency_GaussianKernel(X)\n",
        "  for i in range(N):\n",
        "    for j in range(N):\n",
        "      D[i,i] = D[i,i]+W[i,j]\n",
        "  L = D - W\n",
        "  return D,L\n",
        "\n",
        "def H_constrcution(X):\n",
        "  H = np.zeros([K,N])\n",
        "  D,L = Laplacian(X)\n",
        "  eigenValues, eigenVectors = np.linalg.eig(L)\n",
        "  idx = eigenValues.argsort()[::1]\n",
        "  eigenValues = eigenValues[idx]\n",
        "  eigenVectors = eigenVectors[:,idx]\n",
        "  for i in range(K):\n",
        "    H[i] = eigenVectors[i]\n",
        "  H = H.T\n",
        "  return H"
      ]
    },
    {
      "cell_type": "code",
      "execution_count": 147,
      "metadata": {},
      "outputs": [],
      "source": [
        "def K_means_clustering_standard_SED(X,K):\n",
        "    \"\"\"\n",
        "    Performs K-means-clustering with standard squared Euclidean distance\n",
        "    Input : X : dataset (N : number samples x m : size of data/element)\n",
        "            K : numbers of clusters  \n",
        "    output : centroids : list with \n",
        "    centroids : list of element\n",
        "    clusters : list of list of the indexes of each cluster \n",
        "    \"\"\"\n",
        "    \n",
        "    N=len(X)\n",
        "    random.seed(1000) #since we use random, we are going to set a seed,... not necessary\n",
        "    centroids_index = random.sample(range(N), K)#Initialize centroids\n",
        "    centroids=X[centroids_index]\n",
        "    clusters = asign_clusters(centroids,X,K) #asign to cluster\n",
        "    new_centroids=update_centroids(clusters,X,K) \n",
        "\n",
        "    number_it=1\n",
        "    while loss(centroids,clusters,X,K)!= loss(new_centroids,asign_clusters(new_centroids,X,K),X,K): #while the centroids change, then (1) is improving by construction , we can also use > instead\n",
        "        centroids=new_centroids.copy() #copy, python basic = to copy isn't enougth\n",
        "        clusters = asign_clusters(centroids,X,K) #asign to cluster\n",
        "        new_centroids=update_centroids(clusters, X,K)\n",
        "        number_it +=1\n",
        "\n",
        "    \n",
        "    print(\"Iterations numbers \" + str(number_it))\n",
        "\n",
        "    return centroids\n",
        "\n",
        "\n",
        "def loss(centroids,clusters,X,K):\n",
        "    \"\"\"\n",
        "    Calculate loss : with squared euclidean distance\n",
        "    Input : \n",
        "            centroids and clusters to compute loss from\n",
        "            X : dataset \n",
        "            K : numbers of clusters  \n",
        "    output : squared euclidean distance : L(X,k)=sum sum || Xi - Cl ||^2\n",
        "    \"\"\"\n",
        "    loss=0\n",
        "    for l in range(K):\n",
        "        for i in clusters[l]:\n",
        "            loss+=np.inner(X[i]-centroids[l],X[i]-centroids[l])\n",
        "    return loss\n",
        "\n",
        "def update_centroids(clusters, X,K):\n",
        "    \"\"\"\n",
        "    update the new centroids computing the mean on clusters \n",
        "    \"\"\"\n",
        "    new_centroids=[]#placeholder\n",
        "    for l in range(K):\n",
        "        new_centroids.append(sommer(X[clusters[l]])/len(clusters[l]) ) #sommer is a function that compute the vector sum of a list of vectors\n",
        "    return new_centroids\n",
        "\n",
        "def asign_clusters(centroids,X,K): \n",
        "    \"\"\"\n",
        "    For each centroids, we asign each element of X in it's corresponding cluster\n",
        "    We do the argmin of the standard squared euclidian norm \n",
        "    \"\"\"\n",
        "    clusters=[[] for i in range(K)] #placeholder\n",
        "    for i in range(len(X)): \n",
        "        sed=[np.inner(X[i]-centroids[j],X[i]-centroids[j]) for j in range(K)] #for each element xi of X, sed is the distance from each centroids\n",
        "        clusters[np.argmin(sed)].append(i)\n",
        "    return clusters\n",
        "\n",
        "\n",
        "def sommer(list_of_list):\n",
        "    \"\"\"\n",
        "    Compute the vector sum of a list of vectors\n",
        "    \"\"\"\n",
        "    Somme= [0]*len(list_of_list[0]) #placeholder, nul vector\n",
        "    for i in range(len(list_of_list)):\n",
        "        Somme=np.add(list_of_list[i],Somme)\n",
        "    return Somme"
      ]
    },
    {
      "cell_type": "code",
      "execution_count": 148,
      "metadata": {
        "colab": {
          "base_uri": "https://localhost:8080/"
        },
        "id": "bgGncVor0K-d",
        "outputId": "71040d3b-a3eb-47b0-b6a0-a29b496d4f87"
      },
      "outputs": [
        {
          "name": "stdout",
          "output_type": "stream",
          "text": [
            "(300, 10)\n",
            "Iterations numbers 25\n"
          ]
        }
      ],
      "source": [
        "# Do K-means clustering\n",
        "H = H_constrcution(X)\n",
        "print(H.shape)\n",
        "centroids = K_means_clustering_standard_SED(H,K)\n",
        "clusters = asign_clusters(centroids,H,K) #cluster result"
      ]
    },
    {
      "cell_type": "code",
      "execution_count": 149,
      "metadata": {
        "colab": {
          "base_uri": "https://localhost:8080/",
          "height": 265
        },
        "id": "nkdhKIDy0RRQ",
        "outputId": "693ca159-b5dd-43d0-8f5e-09b15650c55d"
      },
      "outputs": [],
      "source": [
        "#Compute the accuracy of the clustering\n",
        "\n",
        "def accuracy(cluster,y,K):\n",
        "  \"\"\"\n",
        "  computes the accuracy of of the cluster\n",
        "  input : clusters indexes, y : true labels \n",
        "\n",
        "  return accuracy : A =sum_k |{i ∈ Ck : i = mk}/number of elements\n",
        "  \"\"\"\n",
        "  acc=0\n",
        "  card=0\n",
        "  \n",
        "  for l in range(K):\n",
        "    #find the mk : most frequent digit of cluster l\n",
        "    mk= most_freq_digit(y[cluster[l]],K)\n",
        "    print('The '+str(l+1)+'th cluster corresponds to the number '+str(mk))\n",
        "    for element in y[cluster[l]]: \n",
        "      if int(element) == mk :\n",
        "        acc+=1\n",
        "      card +=1\n",
        "  return acc/card #in fact card = len(y)\n",
        "\n",
        "\n",
        "def most_freq_digit(liste,K):\n",
        "  \"\"\"\n",
        "  find the most freq digit in liste, we suppose that liste contains int, from 0 to K-1\n",
        "  \"\"\"\n",
        "  compteur=[0]*K #store how much time we see each element in the list\n",
        "  for element in liste:\n",
        "    element=int(element)\n",
        "    compteur[element] += 1\n",
        "  max_elem=max(compteur) \n",
        "  index=compteur.index(max_elem)\n",
        "  return index"
      ]
    },
    {
      "cell_type": "code",
      "execution_count": 150,
      "metadata": {},
      "outputs": [
        {
          "name": "stdout",
          "output_type": "stream",
          "text": [
            "The 1th cluster corresponds to the number 0\n",
            "The 2th cluster corresponds to the number 4\n",
            "The 3th cluster corresponds to the number 0\n",
            "The 4th cluster corresponds to the number 7\n",
            "The 5th cluster corresponds to the number 3\n",
            "The 6th cluster corresponds to the number 5\n",
            "The 7th cluster corresponds to the number 1\n",
            "The 8th cluster corresponds to the number 1\n",
            "The 9th cluster corresponds to the number 6\n",
            "The 10th cluster corresponds to the number 7\n"
          ]
        },
        {
          "data": {
            "text/plain": [
              "0.16333333333333333"
            ]
          },
          "execution_count": 150,
          "metadata": {},
          "output_type": "execute_result"
        }
      ],
      "source": [
        "accuracy(clusters,y,K)"
      ]
    }
  ],
  "metadata": {
    "colab": {
      "name": "spectral_clustering.ipynb",
      "provenance": []
    },
    "kernelspec": {
      "display_name": "Python 3",
      "name": "python3"
    },
    "language_info": {
      "codemirror_mode": {
        "name": "ipython",
        "version": 3
      },
      "file_extension": ".py",
      "mimetype": "text/x-python",
      "name": "python",
      "nbconvert_exporter": "python",
      "pygments_lexer": "ipython3",
      "version": "3.7.7"
    }
  },
  "nbformat": 4,
  "nbformat_minor": 0
}
