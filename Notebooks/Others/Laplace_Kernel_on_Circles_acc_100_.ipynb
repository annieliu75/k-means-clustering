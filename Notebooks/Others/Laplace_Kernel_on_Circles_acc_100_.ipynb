{
  "cells": [
    {
      "cell_type": "markdown",
      "metadata": {
        "id": "YMzjgI0Patqk"
      },
      "source": [
        "K_means_clustering with kernelization on circles data, with laplace kernel"
      ]
    },
    {
      "cell_type": "code",
      "source": [
        "from IPython.display import clear_output #for clear output to have dynamic images\n",
        "import numpy as np\n",
        "import matplotlib.pyplot as plt"
      ],
      "metadata": {
        "id": "58cP1Z2RmljR"
      },
      "execution_count": null,
      "outputs": []
    },
    {
      "cell_type": "code",
      "source": [
        ""
      ],
      "metadata": {
        "id": "qFwacnHgGYZd"
      },
      "execution_count": null,
      "outputs": []
    },
    {
      "cell_type": "code",
      "execution_count": null,
      "metadata": {
        "id": "3qSGRp2t_caE",
        "colab": {
          "base_uri": "https://localhost:8080/",
          "height": 38
        },
        "outputId": "e3205897-e84a-45d1-bb81-9e091fdcfa83"
      },
      "outputs": [
        {
          "output_type": "execute_result",
          "data": {
            "text/plain": [
              "'\\nOthers kernels such as Fischl\\nkernel smoother : cf gaussian // Radial basis function kernel \\n'"
            ],
            "application/vnd.google.colaboratory.intrinsic+json": {
              "type": "string"
            }
          },
          "metadata": {},
          "execution_count": 10
        }
      ],
      "source": [
        "\"\"\" _______________________________________________KERNEL CHOICE AND KERNEL IMPLEMENTATIONS__________________________________________________\"\"\"\n",
        "\n",
        "#kernel name\n",
        "kernel_name='Laplace Kernel' # 'Gaussian Kernel', 'Sigmoid Kernel' ; 'Polynomial Kernel', 'No Kernel'\n",
        "\n",
        "#Parameters for kernels\n",
        "\n",
        "#Parameters for gaussian kernel or Laplacian kernel\n",
        "Sigma=1\n",
        "\n",
        "#Parameters for Sigmoid kernel\n",
        "K_sig=1.\n",
        "delta_sig=0.\n",
        "\n",
        "#Parameters for Polynomial Kernel\n",
        "c_pol=1.\n",
        "h_pol=3.\n",
        "\n",
        "def kernel(x,y): \n",
        "  \"\"\"\n",
        "  Compute and return the corresponding kernel giving the name\n",
        "  entries : vectors x and y\n",
        "  output : scalar kernel\n",
        "  \"\"\"\n",
        "  if kernel_name=='Gaussian Kernel':\n",
        "    return Gaussian_Kernel(x,y)\n",
        "  elif kernel_name=='Sigmoid Kernel':\n",
        "    return Sigmoid_Kernel(x,y)\n",
        "  elif kernel_name=='Polynomial Kernel':\n",
        "    return Polynomial_Kernel(x,y)\n",
        "  elif kernel_name=='Laplace Kernel':\n",
        "    return Laplace_Kernel(x,y)\n",
        "  elif kernel_name=='No Kernel':\n",
        "    return no_kernel(x,y)\n",
        "  else :\n",
        "    print(\"Error, we didn't recognise the kernel name\")\n",
        "  \n",
        "def no_kernel(x,y): #euclidean, should be the same without kernels\n",
        "  return np.dot(x,y)\n",
        "\n",
        "def Gaussian_Kernel(x,y):\n",
        "  return np.exp(-np.inner(x-y,x-y)/(2*Sigma**2)) \n",
        "  \n",
        "def Sigmoid_Kernel(x,y):\n",
        "  return np.tanh(K_sig*(np.dot(x,y))-delta_sig)\n",
        "\n",
        "def Polynomial_Kernel(x,y):\n",
        "  return (np.dot(x,y)+c_pol)**h_pol\n",
        "\n",
        "def Laplace_Kernel(x,y):\n",
        "  return np.exp(-np.linalg.norm(x-y)/(Sigma)) \n",
        "\n",
        "\"\"\"\n",
        "Others kernels such as \n",
        "Fischl\n",
        "Rational Quadratic Kernel\n",
        "ANOVA Kernel\n",
        "Multiquadric Kernel\n",
        "Inverse Multiquadric Kernel\n",
        "Circular Kernel\n",
        "Spherical Kernel\n",
        "Wave Kernel\n",
        "Power Kernel\n",
        "Log Kernel\n",
        "Spline Kernel\n",
        "B-Spline (Radial Basis Function) Kernel\n",
        "Bessel Kernel\n",
        "Cauchy Kernel\n",
        "Chi-Square Kernel\n",
        "Histogram Intersection Kernel\n",
        "Generalized Histogram Intersection\n",
        "Generalized T-Student Kernel\n",
        "Bayesian Kernel\n",
        "Wavelet Kernel\n",
        "cf : http://crsouza.com/2010/03/17/kernel-functions-for-machine-learning-applications/#laplacian \n",
        "\"\"\""
      ]
    },
    {
      "cell_type": "code",
      "source": [
        "\"\"\" _______________________________________________PRINT CLUSTER VISUALLY__________________________________________________\"\"\"\n",
        "print_at_iteration = True\n",
        "def print_clusters(K,clusters,X):\n",
        "  clear_output()\n",
        "  cols=['k','r','y','g','b','c','m','k','w']\n",
        "  plt.figure()\n",
        "  for l in range(K):\n",
        "      for point in clusters[l]:\n",
        "          plt.scatter(X[point, 0],X[point, 1],  c=cols[l])\n",
        "  plt.show()"
      ],
      "metadata": {
        "id": "QZNp5JmhmzQa"
      },
      "execution_count": null,
      "outputs": []
    },
    {
      "cell_type": "code",
      "execution_count": null,
      "metadata": {
        "id": "WTZZ0q5eU8NF"
      },
      "outputs": [],
      "source": [
        "\"\"\" _______________________________________________NEW LOSS FUNCTION WITH KERNEL____WE DO NOT NEED NOR USE IT______________________________________________\"\"\"\n",
        "def loss_with_kernel(centroids, clusters,X,K): #we compute the new loss with formula (1) from clustering lecture slides\n",
        "  loss=0\n",
        "  for k in range(K): \n",
        "    for i in clusters[k]: \n",
        "      loss+=kernel(X[i],X[i])-2*kernel(X[i],centroid[k])+kernel(centroid[k],centroid[k]) \n",
        "  return loss\n",
        "\n"
      ]
    },
    {
      "cell_type": "code",
      "execution_count": null,
      "metadata": {
        "id": "8EnmYFYgasO0"
      },
      "outputs": [],
      "source": [
        "import copy #for making deep copy when updating the clusters\n",
        "\"\"\" _______________________________________________NEW MAIN K-CLUSTERING FUNCTION WITH KERNEL__________________________________________________\"\"\"\n",
        "def K_means_clustering_kernel(X,K=10):\n",
        "  print(\"K means clustering on your data using \" + kernel_name)\n",
        "  #Initialize clusters , we do not compute here the centroids directly\n",
        "  N=len(X)\n",
        "  indexes=[i for i in range(N)]\n",
        "  clusters=[indexes[i::K] for i in range(K)] #we create the clusters by making a K-split on all indexes\n",
        "  new_clusters=asign_new_clusters(clusters,X,K)\n",
        "  \n",
        "  #Normally we would use the loss function, but we cannot compute the loss directly since we do not have phi, nor we compute the centroids directly, but in fact since it is always getting better at each iteration, we just have to loop until clusters aren't changing anymore => no more improvement\n",
        "  compteur=0\n",
        "  while not convergence_clusters(new_clusters,clusters,K): \n",
        "    if print_at_iteration:\n",
        "      print_clusters(K,clusters,X)\n",
        "    compteur +=1\n",
        "    clusters=copy.deepcopy(new_clusters) #deep copy because using list of list\n",
        "    new_clusters=asign_new_clusters(clusters,X,K)\n",
        "  print(\"Iteration number : \" + str(compteur))\n",
        "  return clusters\n",
        "\n",
        "def asign_new_clusters(clusters, X,K): \n",
        "  \"\"\"\n",
        "  we asign each x_j to cluster \n",
        "  k = argmin_l {  K(xj,xj) - 2*sum(K(xj,xi)) + sum(K(xi,xk))  }\n",
        "\n",
        "  \"\"\"\n",
        "  new_clusters=[[] for i in range(K)]\n",
        "  for i in range(len(X)): #for each xi\n",
        "    new_clusters[argmin_l(X[i],X,clusters,K)].append(i)\n",
        "  return new_clusters\n",
        "\n",
        "delta=0.001 #so if a cluster is empty, we won't divide by zero\n",
        "def argmin_l(xj,X,clusters,K):\n",
        "  pseudo_loss=[]\n",
        "  for l in range(K):\n",
        "    dist_from_ker=sum([kernel(xj,X[i]) for i in clusters[l]])\n",
        "    dist_in_ker=sum([kernel(X[i],X[k]) for i in clusters[l] for k in clusters[l]])\n",
        "    pseudo_loss.append( \n",
        "        kernel(xj,xj) - 2*dist_from_ker/(len(clusters[l])+delta) + dist_in_ker/(len(clusters[l])**2+delta)\n",
        "    )\n",
        "  return np.argmin(pseudo_loss)\n",
        "\n",
        "def convergence_clusters(new_clusters,clusters,K): #we basically see if all clusters are the same\n",
        "  flag=True \n",
        "  for l in range(K):\n",
        "    if new_clusters[l]!=clusters[l]: #if at least one clusters is still changing (so in fact 2)\n",
        "      flag=False\n",
        "  return flag\n"
      ]
    },
    {
      "cell_type": "code",
      "execution_count": null,
      "metadata": {
        "id": "qFa1qLyLXSNG"
      },
      "outputs": [],
      "source": [
        "\"\"\" _______________________________________________ACCURACY OF THE CLUSTERING__________________________________________________\"\"\"\n",
        "#Compute the accuracy of the clustering\n",
        "def accuracy(cluster,y,k):\n",
        "  acc=0\n",
        "  card=0\n",
        "  \n",
        "  for l in range(k):\n",
        "    #find the mk\n",
        "    mk= most_freq_digit(y[cluster[l]],k)\n",
        "    print('The '+str(l)+'th cluster corresponds to the number '+str(mk))\n",
        "    for element in y[cluster[l]]:\n",
        "      if int(element) == mk :\n",
        "        acc+=1\n",
        "      card +=1\n",
        "  return acc/card\n",
        "\n",
        "  return mk\n",
        "  \n",
        "def most_freq_digit(liste,k):\n",
        "  compteur=[0]*k\n",
        "  for element in liste:\n",
        "    element=int(element)\n",
        "    compteur[element] += 1\n",
        "  max_elem=max(compteur) \n",
        "  index=compteur.index(max_elem)\n",
        "  return index\n"
      ]
    },
    {
      "cell_type": "code",
      "execution_count": null,
      "metadata": {
        "colab": {
          "base_uri": "https://localhost:8080/",
          "height": 282
        },
        "id": "AZ1bM0g3amWk",
        "outputId": "a3b23090-41e5-42b9-d2aa-37e7dcd051ec"
      },
      "outputs": [
        {
          "output_type": "execute_result",
          "data": {
            "text/plain": [
              "<matplotlib.collections.PathCollection at 0x7f7dc57fdf10>"
            ]
          },
          "metadata": {},
          "execution_count": 7
        },
        {
          "output_type": "display_data",
          "data": {
            "text/plain": [
              "<Figure size 432x288 with 1 Axes>"
            ],
            "image/png": "[encoded data removed]"
          },
          "metadata": {
            "needs_background": "light"
          }
        }
      ],
      "source": [
        "from sklearn.datasets import make_circles\n",
        "X, y_true = make_circles(n_samples=300, factor=0.01, noise=0.05, random_state=0)\n",
        "K=2\n",
        "\n",
        "plt.scatter(X[:,0],X[:,1],s=50) #print the original data set\n"
      ]
    },
    {
      "cell_type": "code",
      "source": [
        "kernel_name='Laplace Kernel' # 'Gaussian Kernel', 'Sigmoid Kernel' ; 'Polynomial Kernel', 'No Kernel', 'Laplace Kernel'\n",
        "#Parameters for gaussian kernel and laplacian kernel\n",
        "Sigma=1\n",
        "clusters=K_means_clustering_kernel(X,K)\n",
        "\n",
        "cols=['k','r']\n",
        "print_at_iteration = True\n",
        "plt.figure()\n",
        "for l in range(K):\n",
        "    for point in clusters[l]:\n",
        "        plt.scatter(X[point, 0],X[point, 1],  c=cols[l])\n",
        "plt.show()\n",
        "\n",
        "#print the accuracy\n",
        "print(\"Using the k-mean clustering with \"+ kernel_name+ \" on our dataset we were able to get an accuracy of \" + str(accuracy(clusters,y_true,K)))"
      ],
      "metadata": {
        "colab": {
          "base_uri": "https://localhost:8080/",
          "height": 582
        },
        "id": "QQ0gsRsFEfoY",
        "outputId": "053f6a43-fcbc-49e5-e99c-1116c435116d"
      },
      "execution_count": null,
      "outputs": [
        {
          "output_type": "display_data",
          "data": {
            "text/plain": [
              "<Figure size 432x288 with 1 Axes>"
            ],
            "image/png": "[encoded data removed]"
          },
          "metadata": {
            "needs_background": "light"
          }
        },
        {
          "output_type": "stream",
          "name": "stdout",
          "text": [
            "Iteration number : 1\n"
          ]
        },
        {
          "output_type": "display_data",
          "data": {
            "text/plain": [
              "<Figure size 432x288 with 1 Axes>"
            ],
            "image/png": "[encoded data removed]"
          },
          "metadata": {
            "needs_background": "light"
          }
        },
        {
          "output_type": "stream",
          "name": "stdout",
          "text": [
            "The 0th cluster corresponds to the number 1\n",
            "The 1th cluster corresponds to the number 0\n",
            "Using the k-mean clustering with Laplace Kernel on our dataset we were able to get an accuracy of 1.0\n"
          ]
        }
      ]
    }
  ],
  "metadata": {
    "colab": {
      "collapsed_sections": [],
      "name": "Laplace Kernel on Circles acc 100% .ipynb",
      "provenance": []
    },
    "kernelspec": {
      "display_name": "Python 3",
      "name": "python3"
    },
    "language_info": {
      "name": "python"
    }
  },
  "nbformat": 4,
  "nbformat_minor": 0
}