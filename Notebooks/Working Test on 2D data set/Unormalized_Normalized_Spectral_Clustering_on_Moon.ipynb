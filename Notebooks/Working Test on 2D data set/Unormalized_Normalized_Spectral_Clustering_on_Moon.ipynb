{
  "cells": [
    {
      "cell_type": "markdown",
      "metadata": {
        "id": "4X1v7YuJV6cJ"
      },
      "source": [
        "## Unormalized and normalized (just uncomment and comment some text in laplacian_matrix function) Spectral clustering on moon data set"
      ]
    },
    {
      "cell_type": "markdown",
      "metadata": {
        "id": "E1sEqCvmWFgQ"
      },
      "source": [
        "# Laplacian matrix"
      ]
    },
    {
      "cell_type": "code",
      "execution_count": null,
      "metadata": {
        "id": "iBZSC1lBpZI8"
      },
      "outputs": [],
      "source": [
        "def similarity_matrix(X):\n",
        "  \"\"\"\n",
        "  Computes the similarity matrix of X, we here use gaussian kernel, sigma =0.2\n",
        "  \"\"\"\n",
        "  N=len(X)\n",
        "  W = np.zeros([N,N])\n",
        "  sigma=0.2\n",
        "  for i in range(N):\n",
        "    for j in [x for x in range(N) if x != i]:\n",
        "      temp = np.inner( (X[i]-X[j]), (X[i]-X[j]))\n",
        "      W[i,j] = np.exp(-temp/(2*sigma**2))\n",
        "  return W\n",
        "\n",
        "def laplacian_matrix(X):\n",
        "  \"\"\"\n",
        "  Computes the unormalised laplacian matrix of X\n",
        "  \"\"\"\n",
        "  #I=np.identity(N) #add this line for normalized\n",
        "  W=similarity_matrix(X)\n",
        "  D = np.zeros([N,N])\n",
        "  for i in range(N):\n",
        "    for j in range(N):\n",
        "      D[i,i] = D[i,i]+W[i,j]\n",
        "      #D[i,i]=D[i,i]**(-0.5) #add this line for normalized \n",
        "  L = D - W #comment this line for normalized and uncomment the next line \n",
        "  #L = I - D @ W @ D #add this line for normalized \n",
        "  return L\n",
        "\n",
        "def H_constrcution(X):\n",
        "  \"\"\"\n",
        "  Computes H whose columns are the eigenvectors corresponding to the K minimal eigenvalues of L.\n",
        "  \"\"\"\n",
        "  H = np.zeros([K,N])\n",
        "  L = laplacian_matrix(X)\n",
        "  _,V = np.linalg.eig(L)\n",
        "  V = np.real(V)\n",
        "  H = V[:, :K] #first K vects\n",
        "  return H"
      ]
    },
    {
      "cell_type": "markdown",
      "metadata": {
        "id": "PXMfW4FtWJuJ"
      },
      "source": [
        "# standard K-means"
      ]
    },
    {
      "cell_type": "code",
      "execution_count": null,
      "metadata": {
        "id": "kZnCUKCsp_l0"
      },
      "outputs": [],
      "source": [
        "def K_means_clustering_standard_SED(X,K):\n",
        "    \"\"\"\n",
        "    Performs K-means-clustering with standard squared Euclidean distance\n",
        "    Input : X : dataset (N : number samples x m : size of data/element)\n",
        "            K : numbers of clusters  \n",
        "    output : centroids : list with \n",
        "    centroids : list of element\n",
        "    clusters : list of list of the indexes of each cluster \n",
        "    \"\"\"\n",
        "    \n",
        "    N=len(X)\n",
        "    random.seed(1000) #since we use random, we are going to set a seed,... not necessary\n",
        "    centroids_index = random.sample(range(N), K)#Initialize centroids\n",
        "    centroids=X[centroids_index]\n",
        "    clusters = asign_clusters(centroids,X,K) #asign to cluster\n",
        "    new_centroids=update_centroids(clusters,X,K) \n",
        "\n",
        "    number_it=1\n",
        "    while loss(centroids,clusters,X,K)!= loss(new_centroids,asign_clusters(new_centroids,X,K),X,K): #while the centroids change, then (1) is improving by construction , we can also use > instead\n",
        "        centroids=new_centroids.copy() #copy, python basic = to copy isn't enougth\n",
        "        clusters = asign_clusters(centroids,X,K) #asign to cluster\n",
        "        new_centroids=update_centroids(clusters, X,K)\n",
        "        number_it +=1\n",
        "\n",
        "    \n",
        "    print(\"Iterations numbers \" + str(number_it))\n",
        "\n",
        "    return centroids\n",
        "\n",
        "\n",
        "def loss(centroids,clusters,X,K):\n",
        "    \"\"\"\n",
        "    Calculate loss : with squared euclidean distance\n",
        "    Input : \n",
        "            centroids and clusters to compute loss from\n",
        "            X : dataset \n",
        "            K : numbers of clusters  \n",
        "    output : squared euclidean distance : L(X,k)=sum sum || Xi - Cl ||^2\n",
        "    \"\"\"\n",
        "    loss=0\n",
        "    for l in range(K):\n",
        "        for i in clusters[l]:\n",
        "            loss+=np.inner(X[i]-centroids[l],X[i]-centroids[l])\n",
        "    return loss\n",
        "\n",
        "def update_centroids(clusters, X,K):\n",
        "    \"\"\"\n",
        "    update the new centroids computing the mean on clusters \n",
        "    \"\"\"\n",
        "    new_centroids=[]#placeholder\n",
        "    for l in range(K):\n",
        "        new_centroids.append(sommer(X[clusters[l]])/len(clusters[l]) ) #sommer is a function that compute the vector sum of a list of vectors\n",
        "    return new_centroids\n",
        "\n",
        "def asign_clusters(centroids,X,K): \n",
        "    \"\"\"\n",
        "    For each centroids, we asign each element of X in it's corresponding cluster\n",
        "    We do the argmin of the standard squared euclidian norm \n",
        "    \"\"\"\n",
        "    clusters=[[] for i in range(K)] #placeholder\n",
        "    for i in range(len(X)): \n",
        "        sed=[np.inner(X[i]-centroids[j],X[i]-centroids[j]) for j in range(K)] #for each element xi of X, sed is the distance from each centroids\n",
        "        clusters[np.argmin(sed)].append(i)\n",
        "    return clusters\n",
        "\n",
        "def sommer(list_of_list):\n",
        "    \"\"\"\n",
        "    Compute the vector sum of a list of vectors\n",
        "    \"\"\"\n",
        "    Somme= [0]*len(list_of_list[0]) #placeholder, nul vector\n",
        "    for i in range(len(list_of_list)):\n",
        "        Somme=np.add(list_of_list[i],Somme)\n",
        "    return Somme"
      ]
    },
    {
      "cell_type": "markdown",
      "metadata": {
        "id": "4hP0BNXiWNp3"
      },
      "source": [
        "# main "
      ]
    },
    {
      "cell_type": "code",
      "execution_count": null,
      "metadata": {
        "id": "Ohh0g8eTqGKM"
      },
      "outputs": [],
      "source": [
        "from sklearn.datasets import make_moons\n",
        "import matplotlib.pyplot as plt\n",
        "import numpy as np\n",
        "import random"
      ]
    },
    {
      "cell_type": "code",
      "execution_count": null,
      "metadata": {
        "colab": {
          "base_uri": "https://localhost:8080/",
          "height": 282
        },
        "id": "GfmYhhPjqHp1",
        "outputId": "40632577-6037-40fb-c75d-ce2e948247d9"
      },
      "outputs": [
        {
          "data": {
            "text/plain": [
              "<matplotlib.collections.PathCollection at 0x7f4848121290>"
            ]
          },
          "execution_count": 8,
          "metadata": {},
          "output_type": "execute_result"
        },
        {
          "data": {
            "image/png": "[encoded data removed]",
            "text/plain": [
              "<Figure size 432x288 with 1 Axes>"
            ]
          },
          "metadata": {
            "needs_background": "light"
          },
          "output_type": "display_data"
        }
      ],
      "source": [
        "N=300\n",
        "X_moon, y_moon = make_moons(N, noise=0.035, random_state=20)\n",
        "K=2\n",
        "\n",
        "plt.scatter(X_moon[:,0],X_moon[:,1],s=50) #print the original data set"
      ]
    },
    {
      "cell_type": "code",
      "execution_count": null,
      "metadata": {
        "id": "JraZWTzkqL0b"
      },
      "outputs": [],
      "source": [
        "K=2\n",
        "H = H_constrcution(X_moon)\n",
        "centroids=K_means_clustering_standard_SED(H,K)\n",
        "clusters = asign_clusters(centroids,H,K) #cluster result"
      ]
    },
    {
      "cell_type": "code",
      "execution_count": null,
      "metadata": {
        "colab": {
          "base_uri": "https://localhost:8080/",
          "height": 265
        },
        "id": "qjveXJN3qPGb",
        "outputId": "05dd18a9-d247-4c8e-8bc2-74804ae3e2a9"
      },
      "outputs": [
        {
          "data": {
            "image/png": "[encoded data removed]",
            "text/plain": [
              "<Figure size 432x288 with 1 Axes>"
            ]
          },
          "metadata": {
            "needs_background": "light"
          },
          "output_type": "display_data"
        }
      ],
      "source": [
        "\n",
        "cols=['k','r','y','g']\n",
        "plt.figure()\n",
        "for l in range(K):\n",
        "    for point in clusters[l]:\n",
        "        plt.scatter(X_moon[point, 0],X_moon[point, 1],  c=cols[l])\n",
        "plt.show()"
      ]
    }
  ],
  "metadata": {
    "colab": {
      "collapsed_sections": [],
      "name": "Unormalized Spectral Clustering on Moon.ipynb",
      "provenance": []
    },
    "kernelspec": {
      "display_name": "Python 3",
      "name": "python3"
    },
    "language_info": {
      "name": "python"
    }
  },
  "nbformat": 4,
  "nbformat_minor": 0
}
